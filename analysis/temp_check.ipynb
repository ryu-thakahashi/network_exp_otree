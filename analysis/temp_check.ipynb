{
 "cells": [
  {
   "cell_type": "code",
   "execution_count": 1,
   "metadata": {},
   "outputs": [],
   "source": [
    "import polars as pl\n",
    "import polars.selectors as cs\n",
    "\n",
    "\n",
    "import seaborn as sns\n",
    "\n",
    "\n",
    "import matplotlib.pyplot as plt"
   ]
  },
  {
   "cell_type": "code",
   "execution_count": 2,
   "metadata": {},
   "outputs": [],
   "source": [
    "from pathlib import Path\n",
    "\n",
    "data_folder_path = Path().resolve().parent / \"__temp_bots_Jun10_16h04m02.8s\"\n",
    "data_folder_path = Path().resolve().parent / \"__temp_bots_Jun10_16h17m40.0s\"\n",
    "data_folder_path = Path().resolve().parent / \"__temp_bots_Jun10_17h08m28.6s\"\n",
    "\n",
    "app_name = \"network_pd.csv\""
   ]
  },
  {
   "cell_type": "code",
   "execution_count": 3,
   "metadata": {},
   "outputs": [
    {
     "data": {
      "application/vnd.microsoft.datawrangler.viewer.v0+json": {
       "columns": [
        {
         "name": "index",
         "rawType": "int64",
         "type": "integer"
        },
        {
         "name": "player.action",
         "rawType": "int64",
         "type": "integer"
        },
        {
         "name": "next_action",
         "rawType": "float64",
         "type": "float"
        }
       ],
       "ref": "f7be6fe5-3183-4842-ab10-616f2c3cdbe6",
       "rows": [
        [
         "0",
         "1",
         null
        ],
        [
         "1",
         "1",
         "1.0"
        ],
        [
         "2",
         "0",
         "1.0"
        ],
        [
         "3",
         "0",
         "0.0"
        ],
        [
         "4",
         "1",
         "0.0"
        ],
        [
         "5",
         "1",
         "1.0"
        ],
        [
         "6",
         "0",
         "1.0"
        ],
        [
         "7",
         "0",
         "0.0"
        ],
        [
         "8",
         "0",
         "0.0"
        ],
        [
         "9",
         "1",
         "0.0"
        ],
        [
         "10",
         "0",
         "1.0"
        ],
        [
         "11",
         "0",
         "0.0"
        ],
        [
         "12",
         "1",
         "0.0"
        ],
        [
         "13",
         "1",
         "1.0"
        ],
        [
         "14",
         "1",
         "1.0"
        ],
        [
         "15",
         "0",
         null
        ],
        [
         "16",
         "0",
         "0.0"
        ],
        [
         "17",
         "1",
         "0.0"
        ],
        [
         "18",
         "0",
         "1.0"
        ],
        [
         "19",
         "0",
         "0.0"
        ],
        [
         "20",
         "1",
         "0.0"
        ],
        [
         "21",
         "1",
         "1.0"
        ],
        [
         "22",
         "0",
         "1.0"
        ],
        [
         "23",
         "0",
         "0.0"
        ],
        [
         "24",
         "1",
         "0.0"
        ],
        [
         "25",
         "1",
         "1.0"
        ],
        [
         "26",
         "0",
         "1.0"
        ],
        [
         "27",
         "0",
         "0.0"
        ],
        [
         "28",
         "1",
         "0.0"
        ],
        [
         "29",
         "1",
         "1.0"
        ],
        [
         "30",
         "1",
         null
        ],
        [
         "31",
         "1",
         "1.0"
        ],
        [
         "32",
         "1",
         "1.0"
        ],
        [
         "33",
         "1",
         "1.0"
        ],
        [
         "34",
         "1",
         "1.0"
        ],
        [
         "35",
         "1",
         "1.0"
        ],
        [
         "36",
         "1",
         "1.0"
        ],
        [
         "37",
         "0",
         "1.0"
        ],
        [
         "38",
         "1",
         "0.0"
        ],
        [
         "39",
         "1",
         "1.0"
        ],
        [
         "40",
         "1",
         "1.0"
        ],
        [
         "41",
         "1",
         "1.0"
        ],
        [
         "42",
         "0",
         "1.0"
        ],
        [
         "43",
         "1",
         "0.0"
        ],
        [
         "44",
         "0",
         "1.0"
        ],
        [
         "45",
         "1",
         null
        ],
        [
         "46",
         "1",
         "1.0"
        ],
        [
         "47",
         "0",
         "1.0"
        ],
        [
         "48",
         "0",
         "0.0"
        ],
        [
         "49",
         "1",
         "0.0"
        ]
       ],
       "shape": {
        "columns": 2,
        "rows": 5400
       }
      },
      "text/html": [
       "<div>\n",
       "<style scoped>\n",
       "    .dataframe tbody tr th:only-of-type {\n",
       "        vertical-align: middle;\n",
       "    }\n",
       "\n",
       "    .dataframe tbody tr th {\n",
       "        vertical-align: top;\n",
       "    }\n",
       "\n",
       "    .dataframe thead th {\n",
       "        text-align: right;\n",
       "    }\n",
       "</style>\n",
       "<table border=\"1\" class=\"dataframe\">\n",
       "  <thead>\n",
       "    <tr style=\"text-align: right;\">\n",
       "      <th></th>\n",
       "      <th>player.action</th>\n",
       "      <th>next_action</th>\n",
       "    </tr>\n",
       "  </thead>\n",
       "  <tbody>\n",
       "    <tr>\n",
       "      <th>0</th>\n",
       "      <td>1</td>\n",
       "      <td>NaN</td>\n",
       "    </tr>\n",
       "    <tr>\n",
       "      <th>1</th>\n",
       "      <td>1</td>\n",
       "      <td>1.0</td>\n",
       "    </tr>\n",
       "    <tr>\n",
       "      <th>2</th>\n",
       "      <td>0</td>\n",
       "      <td>1.0</td>\n",
       "    </tr>\n",
       "    <tr>\n",
       "      <th>3</th>\n",
       "      <td>0</td>\n",
       "      <td>0.0</td>\n",
       "    </tr>\n",
       "    <tr>\n",
       "      <th>4</th>\n",
       "      <td>1</td>\n",
       "      <td>0.0</td>\n",
       "    </tr>\n",
       "    <tr>\n",
       "      <th>...</th>\n",
       "      <td>...</td>\n",
       "      <td>...</td>\n",
       "    </tr>\n",
       "    <tr>\n",
       "      <th>5395</th>\n",
       "      <td>1</td>\n",
       "      <td>1.0</td>\n",
       "    </tr>\n",
       "    <tr>\n",
       "      <th>5396</th>\n",
       "      <td>0</td>\n",
       "      <td>1.0</td>\n",
       "    </tr>\n",
       "    <tr>\n",
       "      <th>5397</th>\n",
       "      <td>0</td>\n",
       "      <td>0.0</td>\n",
       "    </tr>\n",
       "    <tr>\n",
       "      <th>5398</th>\n",
       "      <td>0</td>\n",
       "      <td>0.0</td>\n",
       "    </tr>\n",
       "    <tr>\n",
       "      <th>5399</th>\n",
       "      <td>1</td>\n",
       "      <td>0.0</td>\n",
       "    </tr>\n",
       "  </tbody>\n",
       "</table>\n",
       "<p>5400 rows × 2 columns</p>\n",
       "</div>"
      ],
      "text/plain": [
       "      player.action  next_action\n",
       "0                 1          NaN\n",
       "1                 1          1.0\n",
       "2                 0          1.0\n",
       "3                 0          0.0\n",
       "4                 1          0.0\n",
       "...             ...          ...\n",
       "5395              1          1.0\n",
       "5396              0          1.0\n",
       "5397              0          0.0\n",
       "5398              0          0.0\n",
       "5399              1          0.0\n",
       "\n",
       "[5400 rows x 2 columns]"
      ]
     },
     "execution_count": 3,
     "metadata": {},
     "output_type": "execute_result"
    }
   ],
   "source": [
    "raw_df = pl.read_csv(data_folder_path / app_name)\n",
    "df = raw_df.with_columns(\n",
    "    pl.col(\"player.action\")\n",
    "    .shift(1)\n",
    "    .over(pl.col(\"participant.code\"))\n",
    "    .alias(\"next_action\"),\n",
    ").sort(\"participant.code\")\n",
    "\n",
    "\n",
    "df.select(\"player.action\", \"next_action\").to_pandas()"
   ]
  },
  {
   "cell_type": "code",
   "execution_count": 4,
   "metadata": {},
   "outputs": [
    {
     "data": {
      "text/plain": [
       "['participant.id_in_session',\n",
       " 'participant.code',\n",
       " 'participant.label',\n",
       " 'participant._is_bot',\n",
       " 'participant._index_in_pages',\n",
       " 'participant._max_page_index',\n",
       " 'participant._current_app_name',\n",
       " 'participant._current_page_name',\n",
       " 'participant.time_started_utc',\n",
       " 'participant.visited',\n",
       " 'participant.mturk_worker_id',\n",
       " 'participant.mturk_assignment_id',\n",
       " 'participant.payoff',\n",
       " 'player.id_in_group',\n",
       " 'player.role',\n",
       " 'player.payoff',\n",
       " 'player.action',\n",
       " 'player.confirm_results',\n",
       " 'player.time_out',\n",
       " 'player.current_payoff',\n",
       " 'player.neighbor_actions',\n",
       " 'player.neighbor_coop_ratio',\n",
       " 'player.neighbor_payoffs',\n",
       " 'player.highest_action',\n",
       " 'player.show_payoffs',\n",
       " 'group.id_in_subsession',\n",
       " 'group.dicision_start_time',\n",
       " 'group.show_payoffs',\n",
       " 'subsession.round_number',\n",
       " 'session.code',\n",
       " 'session.label',\n",
       " 'session.mturk_HITId',\n",
       " 'session.mturk_HITGroupId',\n",
       " 'session.comment',\n",
       " 'session.is_demo',\n",
       " 'next_action']"
      ]
     },
     "execution_count": 4,
     "metadata": {},
     "output_type": "execute_result"
    }
   ],
   "source": [
    "df.columns"
   ]
  },
  {
   "cell_type": "code",
   "execution_count": 5,
   "metadata": {},
   "outputs": [
    {
     "data": {
      "text/plain": [
       "<Axes: xlabel='sum_payoff', ylabel='Count'>"
      ]
     },
     "execution_count": 5,
     "metadata": {},
     "output_type": "execute_result"
    },
    {
     "data": {
      "image/png": "[encoded data removed]",
      "text/plain": [
       "<Figure size 1400x600 with 2 Axes>"
      ]
     },
     "metadata": {},
     "output_type": "display_data"
    }
   ],
   "source": [
    "# payoff の計算が大丈夫か確認する\n",
    "# payoff distribution\n",
    "plt_df = df.group_by(\"participant.id_in_session\").agg(\n",
    "    pl.col(\"player.payoff\").sum().alias(\"sum_payoff\"),\n",
    "    pl.col(\"participant.payoff\").mean().alias(\"mean_participant_payoff\"),\n",
    ")\n",
    "\n",
    "\n",
    "fig, axes = plt.subplots(1, 2, figsize=(14, 6))\n",
    "sns.scatterplot(\n",
    "    data=plt_df.to_pandas(),\n",
    "    x=\"sum_payoff\",\n",
    "    y=\"mean_participant_payoff\",\n",
    "    ax=axes[0],\n",
    ")\n",
    "\n",
    "sns.histplot(\n",
    "    plt_df.to_pandas(),\n",
    "    x=\"sum_payoff\",\n",
    "    ax=axes[1],\n",
    ")"
   ]
  },
  {
   "cell_type": "code",
   "execution_count": 6,
   "metadata": {},
   "outputs": [
    {
     "data": {
      "text/plain": [
       "(0.0, 1.0)"
      ]
     },
     "execution_count": 6,
     "metadata": {},
     "output_type": "execute_result"
    },
    {
     "data": {
      "image/png": "[encoded data removed]",
      "text/plain": [
       "<Figure size 640x480 with 1 Axes>"
      ]
     },
     "metadata": {},
     "output_type": "display_data"
    }
   ],
   "source": [
    "# round ごと，条件別の協力率\n",
    "plt_df = df.group_by([\"player.show_payoffs\", \"subsession.round_number\"]).agg(\n",
    "    pl.col(\"player.action\").mean().alias(\"mean_action\"),\n",
    ")\n",
    "# plt_df.glimpse()\n",
    "ax = sns.lineplot(\n",
    "    data=plt_df.to_pandas(),\n",
    "    x=\"subsession.round_number\",\n",
    "    y=\"mean_action\",\n",
    "    hue=\"player.show_payoffs\",\n",
    ")\n",
    "ax.axhline(0.5, color=\"gray\", linestyle=\"--\", label=\"50% Cooperation Rate\")\n",
    "ax.set_ylim(0, 1)"
   ]
  },
  {
   "cell_type": "code",
   "execution_count": 7,
   "metadata": {},
   "outputs": [
    {
     "name": "stdout",
     "output_type": "stream",
     "text": [
      "Rows: 5040\n",
      "Columns: 5\n",
      "$ player.show_payoffs        <i64> 1, 1, 1, 1, 1, 1, 1, 1, 1, 1\n",
      "$ player.neighbor_coop_ratio <f64> 0.25, 0.25, 0.5, 0.0, 0.75, 0.5, 0.25, 1.0, 0.5, 0.5\n",
      "$ player.highest_action      <i64> 0, 0, 0, 0, 0, 0, 0, 0, 0, 0\n",
      "$ player.action              <i64> 1, 0, 0, 1, 1, 0, 0, 0, 1, 0\n",
      "$ next_action                <i64> 1, 1, 0, 0, 1, 1, 0, 0, 0, 1\n",
      "\n",
      "None\n",
      "shape: (32, 5)\n",
      "┌─────────────────────┬───────────────────────┬──────────────────────┬─────────────┬───────────────┐\n",
      "│ player.show_payoffs ┆ player.neighbor_coop_ ┆ player.highest_actio ┆ next_action ┆ player.action │\n",
      "│ ---                 ┆ ratio                 ┆ n                    ┆ ---         ┆ ---           │\n",
      "│ i64                 ┆ ---                   ┆ ---                  ┆ i64         ┆ f64           │\n",
      "│                     ┆ f64                   ┆ i64                  ┆             ┆               │\n",
      "╞═════════════════════╪═══════════════════════╪══════════════════════╪═════════════╪═══════════════╡\n",
      "│ 0                   ┆ 0.0                   ┆ 0                    ┆ 1           ┆ 0.451613      │\n",
      "│ 1                   ┆ 0.0                   ┆ 0                    ┆ 1           ┆ 0.425287      │\n",
      "│ 0                   ┆ 0.0                   ┆ 0                    ┆ 0           ┆ 0.545455      │\n",
      "│ 1                   ┆ 0.0                   ┆ 0                    ┆ 0           ┆ 0.543478      │\n",
      "│ 0                   ┆ 0.25                  ┆ 0                    ┆ 0           ┆ 0.534615      │\n",
      "│ …                   ┆ …                     ┆ …                    ┆ …           ┆ …             │\n",
      "│ 1                   ┆ 1.0                   ┆ 0                    ┆ 0           ┆ 0.0           │\n",
      "│ 0                   ┆ 1.0                   ┆ 0                    ┆ 0           ┆ 0.0           │\n",
      "│ 1                   ┆ 1.0                   ┆ 0                    ┆ 1           ┆ 0.0           │\n",
      "│ 1                   ┆ 1.0                   ┆ 1                    ┆ 0           ┆ 1.0           │\n",
      "│ 1                   ┆ 1.0                   ┆ 1                    ┆ 1           ┆ 1.0           │\n",
      "└─────────────────────┴───────────────────────┴──────────────────────┴─────────────┴───────────────┘\n"
     ]
    },
    {
     "name": "stderr",
     "output_type": "stream",
     "text": [
      "C:\\Users\\Takahashi\\AppData\\Local\\Temp\\ipykernel_32440\\1750265519.py:26: UserWarning: No artists with labels found to put in legend.  Note that artists whose label start with an underscore are ignored when legend() is called with no argument.\n",
      "  ax.legend(title=\"Show Payoffs\")\n",
      "C:\\Users\\Takahashi\\AppData\\Local\\Temp\\ipykernel_32440\\1750265519.py:26: UserWarning: No artists with labels found to put in legend.  Note that artists whose label start with an underscore are ignored when legend() is called with no argument.\n",
      "  ax.legend(title=\"Show Payoffs\")\n",
      "C:\\Users\\Takahashi\\AppData\\Local\\Temp\\ipykernel_32440\\1750265519.py:26: UserWarning: No artists with labels found to put in legend.  Note that artists whose label start with an underscore are ignored when legend() is called with no argument.\n",
      "  ax.legend(title=\"Show Payoffs\")\n",
      "C:\\Users\\Takahashi\\AppData\\Local\\Temp\\ipykernel_32440\\1750265519.py:26: UserWarning: No artists with labels found to put in legend.  Note that artists whose label start with an underscore are ignored when legend() is called with no argument.\n",
      "  ax.legend(title=\"Show Payoffs\")\n"
     ]
    },
    {
     "data": {
      "image/png": "[encoded data removed]",
      "text/plain": [
       "<Figure size 600x300 with 2 Axes>"
      ]
     },
     "metadata": {},
     "output_type": "display_data"
    },
    {
     "data": {
      "image/png": "[encoded data removed]",
      "text/plain": [
       "<Figure size 600x300 with 2 Axes>"
      ]
     },
     "metadata": {},
     "output_type": "display_data"
    }
   ],
   "source": [
    "# round ごと，条件別の協力率\n",
    "plt_df = df.filter(pl.col(\"subsession.round_number\") > 1).select(\n",
    "    \"player.show_payoffs\",\n",
    "    \"player.neighbor_coop_ratio\",\n",
    "    \"player.highest_action\",\n",
    "    \"player.action\",\n",
    "    \"next_action\",\n",
    ")\n",
    "print(plt_df.glimpse())\n",
    "\n",
    "summary_df = (\n",
    "    plt_df.group_by(cs.all().exclude(\"player.action\"))\n",
    "    .agg(\n",
    "        pl.col(\"player.action\").mean().alias(\"player.action\"),\n",
    "    )\n",
    "    .sort(\"player.neighbor_coop_ratio\")\n",
    ")\n",
    "print(summary_df)\n",
    "\n",
    "\n",
    "for show_payoffs in [0, 1]:\n",
    "    fig, axes = plt.subplots(1, 2, figsize=(6, 3))\n",
    "    for player_action, ax in enumerate(axes):\n",
    "        ax.set_xlabel(\"Neighbor Cooperation Ratio\")\n",
    "        ax.set_ylabel(\"Cooperation Rate\")\n",
    "        ax.legend(title=\"Show Payoffs\")\n",
    "        sns.pointplot(\n",
    "            data=plt_df.filter(pl.col(\"player.show_payoffs\") == show_payoffs)\n",
    "            .filter(pl.col(\"player.action\") == player_action)\n",
    "            .to_pandas(),\n",
    "            x=\"player.neighbor_coop_ratio\",\n",
    "            # y=\"mean_action\",\n",
    "            # y=\"player.action\",\n",
    "            y=\"next_action\",\n",
    "            hue=\"player.highest_action\",\n",
    "            ax=ax,\n",
    "        )\n",
    "        ax.axhline(0.5, color=\"gray\", linestyle=\"--\", label=\"50% Cooperation Rate\")\n",
    "        ax.set_ylim(0, 1)"
   ]
  },
  {
   "cell_type": "markdown",
   "metadata": {},
   "source": [
    "| Action | C=0 | C=1 | C=2 | C=3 | C=4 |\n",
    "| ------ | --- | --- | --- | --- | --- |\n",
    "| C      | 0   | 6   | 12  | 18  | 24  |\n",
    "| D      | 4   | 10  | 16  | 22  | 28  |\n"
   ]
  },
  {
   "cell_type": "markdown",
   "metadata": {},
   "source": [
    "| Action | C=0 | C=1         | C=2           | C=3           | C=4           |\n",
    "| ------ | --- | ----------- | ------------- | ------------- | ------------- |\n",
    "| C      | 0   | $(b/c)$     | $2 (b/c)$     | $3 (b/c)$     | $4 (b/c)$     |\n",
    "| D      | 4   | $(b/c) + 4$ | $2 (b/c) + 4$ | $3 (b/c) + 4$ | $4 (b/c) + 4$ |\n"
   ]
  },
  {
   "cell_type": "code",
   "execution_count": 15,
   "metadata": {},
   "outputs": [
    {
     "data": {
      "text/plain": [
       "(1580, 36)"
      ]
     },
     "execution_count": 15,
     "metadata": {},
     "output_type": "execute_result"
    }
   ],
   "source": [
    "plt_df = (\n",
    "    df.filter(pl.col(\"player.neighbor_coop_ratio\").is_between(0.5, 0.75))\n",
    "    .filter(pl.col(\"player.action\") == 1)\n",
    "    .filter(pl.col(\"subsession.round_number\") < 15)\n",
    ")\n",
    "plt_df.shape"
   ]
  },
  {
   "cell_type": "code",
   "execution_count": null,
   "metadata": {},
   "outputs": [],
   "source": []
  }
 ],
 "metadata": {
  "kernelspec": {
   "display_name": ".venv",
   "language": "python",
   "name": "python3"
  },
  "language_info": {
   "codemirror_mode": {
    "name": "ipython",
    "version": 3
   },
   "file_extension": ".py",
   "mimetype": "text/x-python",
   "name": "python",
   "nbconvert_exporter": "python",
   "pygments_lexer": "ipython3",
   "version": "3.13.1"
  }
 },
 "nbformat": 4,
 "nbformat_minor": 2
}
